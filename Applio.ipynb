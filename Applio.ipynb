{
  "nbformat": 4,
  "nbformat_minor": 0,
  "metadata": {
    "colab": {
      "provenance": [],
      "gpuType": "T4"
    },
    "kernelspec": {
      "name": "python3",
      "display_name": "Python 3"
    },
    "language_info": {
      "name": "python"
    },
    "accelerator": "GPU"
  },
  "cells": [
    {
      "cell_type": "markdown",
      "source": [
        "👉 Without INstallation (Portable) : https://buymeacoffee.com/socialadapps/e/458360"
      ],
      "metadata": {
        "id": "eGiHTLX5chLS"
      }
    },
    {
      "cell_type": "markdown",
      "source": [
        "📸 Follow on Instagram: https://www.instagram.com/xsocialandapps/\n",
        "\n",
        "💖 Support & Portable Tools: https://buymeacoffee.com/socialadapps\n"
      ],
      "metadata": {
        "id": "RaL86to9cm4i"
      }
    },
    {
      "cell_type": "markdown",
      "source": [
        "# **Cloning**"
      ],
      "metadata": {
        "id": "b2Iq3VBDabsa"
      }
    },
    {
      "cell_type": "code",
      "source": [
        "%cd /content\n",
        "!git clone https://github.com/harry2141985/Applio.git\n",
        "%cd Applio"
      ],
      "metadata": {
        "id": "dOU__kQ2afXa"
      },
      "execution_count": null,
      "outputs": []
    },
    {
      "cell_type": "markdown",
      "source": [
        "# **Requirements**"
      ],
      "metadata": {
        "id": "erQA29ECagrR"
      }
    },
    {
      "cell_type": "code",
      "source": [
        "!pip install torch torchaudio torchvision --index-url https://download.pytorch.org/whl/cu128\n",
        "!pip install -r requirements.txt\n",
        "!apt-get install -y portaudio19-dev\n",
        "!pip install sounddevice"
      ],
      "metadata": {
        "id": "HnoEGYZtaogC"
      },
      "execution_count": null,
      "outputs": []
    },
    {
      "cell_type": "code",
      "source": [
        "!python app.py"
      ],
      "metadata": {
        "id": "5Av5aBP3auHJ"
      },
      "execution_count": null,
      "outputs": []
    }
  ]
}